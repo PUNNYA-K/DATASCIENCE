{
 "cells": [
  {
   "cell_type": "markdown",
   "id": "565b0634",
   "metadata": {},
   "source": [
    "\n",
    "# ARITHMETIC OPERATIONS"
   ]
  },
  {
   "cell_type": "code",
   "execution_count": 2,
   "id": "e143c41b",
   "metadata": {},
   "outputs": [
    {
     "name": "stdout",
     "output_type": "stream",
     "text": [
      "Enter the first number:10\n",
      "Enter the second number:5\n",
      "Addition: 15\n",
      "Subtraction: 5\n",
      "Multiplication: 50\n",
      "Division: 2.0\n"
     ]
    }
   ],
   "source": [
    "a=int(input(\"Enter the first number:\"))\n",
    "b=int(input(\"Enter the second number:\"))\n",
    "x=a+b\n",
    "y=a-b\n",
    "z=a*b\n",
    "w=a/b\n",
    "print(\"Addition:\",x)\n",
    "print(\"Subtraction:\",y)\n",
    "print(\"Multiplication:\",z)\n",
    "print(\"Division:\",w)\n"
   ]
  },
  {
   "cell_type": "code",
   "execution_count": null,
   "id": "17953b47",
   "metadata": {},
   "outputs": [],
   "source": []
  },
  {
   "cell_type": "markdown",
   "id": "ef9cfb0e",
   "metadata": {},
   "source": [
    "# STRING OPERATIONS"
   ]
  },
  {
   "cell_type": "code",
   "execution_count": 14,
   "id": "696e137e",
   "metadata": {
    "scrolled": true
   },
   "outputs": [
    {
     "name": "stdout",
     "output_type": "stream",
     "text": [
      "Enter the 1st string:hello\n",
      "Enter the 2nd string:world\n",
      "Length of 1st string: 5\n",
      "Length of 2nd string: 5\n",
      "lowercase: hello\n",
      "uppercase: HELLO\n",
      "concatenation: helloworld\n",
      "replace: hello punnya\n"
     ]
    }
   ],
   "source": [
    "a=input(\"Enter the 1st string:\")\n",
    "b=input(\"Enter the 2nd string:\")\n",
    "print(\"Length of 1st string:\",len(a))\n",
    "print(\"Length of 2nd string:\",len(b))\n",
    "print(\"lowercase:\",a.lower())\n",
    "print(\"uppercase:\",a.upper())\n",
    "print(\"concatenation:\",a+b)\n",
    "str=\"hi punnya\"\n",
    "print(\"replace:\",str.replace(\"hi\",\"hello\"))\n"
   ]
  },
  {
   "cell_type": "code",
   "execution_count": null,
   "id": "1f66bf44",
   "metadata": {},
   "outputs": [],
   "source": []
  },
  {
   "cell_type": "markdown",
   "id": "c82e6428",
   "metadata": {},
   "source": [
    "# LIST"
   ]
  },
  {
   "cell_type": "code",
   "execution_count": 36,
   "id": "882e1220",
   "metadata": {},
   "outputs": [
    {
     "name": "stdout",
     "output_type": "stream",
     "text": [
      "Enter number of elements : 4\n",
      "apple\n",
      "orange\n",
      "mango\n",
      "grape\n",
      "List= ['apple', 'orange', 'mango', 'grape']\n"
     ]
    }
   ],
   "source": [
    "lst=[]\n",
    "n=int(input(\"Enter number of elements : \"))\n",
    "for i in range(0,n):\n",
    "    x=input()\n",
    "    lst.append(x) \n",
    "print(\"List=\",lst)\n",
    "\n"
   ]
  },
  {
   "cell_type": "code",
   "execution_count": null,
   "id": "fb337fb9",
   "metadata": {},
   "outputs": [],
   "source": []
  },
  {
   "cell_type": "markdown",
   "id": "bce073d0",
   "metadata": {},
   "source": [
    "# DICTIONARY"
   ]
  },
  {
   "cell_type": "code",
   "execution_count": 34,
   "id": "e734c5c6",
   "metadata": {},
   "outputs": [
    {
     "name": "stdout",
     "output_type": "stream",
     "text": [
      "No. of elements in dictionary:3\n",
      "Enter the name:punnya\n",
      "Enter the age:22\n",
      "Enter the name:archana\n",
      "Enter the age:22\n",
      "Enter the name:diya\n",
      "Enter the age:22\n",
      "The dictionary is= {'archana': 22, 'diya': 22, 'punnya': 22}\n",
      "The dictionary in ascending order= {'archana': 22, 'diya': 22, 'punnya': 22}\n",
      "The dictionary in descending order= {'punnya': 22, 'diya': 22, 'archana': 22}\n"
     ]
    }
   ],
   "source": [
    "a={}\n",
    "n=int(input(\"No. of elements in dictionary:\"))\n",
    "for i in range(n):\n",
    "    name=input(\"Enter the name:\")\n",
    "    age=int(input(\"Enter the age:\"))\n",
    "    a[name]=age\n",
    "    b=list(a.items())\n",
    "    b.sort()\n",
    "    b=dict(b)\n",
    "print(\"The dictionary is=\",b)\n",
    "b=dict(b)\n",
    "print(\"The dictionary in ascending order=\",b)\n",
    "r=list(a.items())\n",
    "r.sort(reverse=True)\n",
    "dsc=dict(r)\n",
    "r=dict(r)\n",
    "print(\"The dictionary in descending order=\",r)\n",
    "    \n"
   ]
  },
  {
   "cell_type": "code",
   "execution_count": null,
   "id": "35d9eea9",
   "metadata": {},
   "outputs": [],
   "source": []
  },
  {
   "cell_type": "markdown",
   "id": "6bdd2a4c",
   "metadata": {},
   "source": [
    "# LARGEST NUMBER FROM A LIST"
   ]
  },
  {
   "cell_type": "code",
   "execution_count": 4,
   "id": "32a87eda",
   "metadata": {},
   "outputs": [
    {
     "name": "stdout",
     "output_type": "stream",
     "text": [
      "Enter number of elements : 5\n",
      "9\n",
      "6\n",
      "7\n",
      "4\n",
      "2\n",
      "List= ['9', '6', '7', '4', '2']\n",
      "Largest number= 9\n"
     ]
    }
   ],
   "source": [
    "lst=[]\n",
    "n=int(input(\"Enter number of elements : \"))\n",
    "for i in range(0,n):\n",
    "    x=input()\n",
    "    lst.append(x) \n",
    "print(\"List=\",lst)\n",
    "largest=max(lst)\n",
    "print(\"Largest number=\",largest)"
   ]
  },
  {
   "cell_type": "code",
   "execution_count": null,
   "id": "47160ce1",
   "metadata": {},
   "outputs": [],
   "source": []
  },
  {
   "cell_type": "markdown",
   "id": "39244aa2",
   "metadata": {},
   "source": [
    "# REMOVE DUPLICATE FROM A LIST"
   ]
  },
  {
   "cell_type": "code",
   "execution_count": 10,
   "id": "b9d2da99",
   "metadata": {},
   "outputs": [
    {
     "name": "stdout",
     "output_type": "stream",
     "text": [
      "Enter the number of elements in list:5\n",
      "5\n",
      "3\n",
      "4\n",
      "5\n",
      "2\n",
      "List= ['5', '3', '4', '5', '2']\n",
      "\n",
      "New list:\n",
      "['5', '3', '4', '2']\n"
     ]
    }
   ],
   "source": [
    "\n",
    "lst=[]\n",
    "n= int(input(\"Enter the number of elements in list:\"))\n",
    "for x in range(0,n):\n",
    "    element=input()\n",
    "    lst.append(element)\n",
    "b = set()\n",
    "unique = []\n",
    "for x in lst:\n",
    "    if x not in b:\n",
    "        unique.append(x)\n",
    "        b.add(x)\n",
    "print(\"List=\",lst)        \n",
    "print(\"\\nNew list:\")\n",
    "print(unique)"
   ]
  },
  {
   "cell_type": "markdown",
   "id": "ff1f5898",
   "metadata": {},
   "source": []
  },
  {
   "cell_type": "markdown",
   "id": "a4e864fd",
   "metadata": {},
   "source": [
    "# MERGE TWO DICTIONARIES"
   ]
  },
  {
   "cell_type": "code",
   "execution_count": 5,
   "id": "8d11c595",
   "metadata": {},
   "outputs": [
    {
     "name": "stdout",
     "output_type": "stream",
     "text": [
      "No. of elements in 1st dictionary:3\n",
      "Enter the name:punnya\n",
      "Enter the age:22\n",
      "Enter the name:archana\n",
      "Enter the age:22\n",
      "Enter the name:sandra\n",
      "Enter the age:22\n",
      "first dictionary is= {'archana': 22, 'punnya': 22, 'sandra': 22}\n",
      "No. of elements in 2nd dictionary:2\n",
      "Enter the name:hudha\n",
      "Enter the age:22\n",
      "Enter the name:anu\n",
      "Enter the age:22\n",
      "second dictionary is= {'anu': 22, 'hudha': 22}\n",
      "Merged dictionary= {'anu': 22, 'archana': 22, 'hudha': 22, 'punnya': 22, 'sandra': 22}\n"
     ]
    }
   ],
   "source": [
    "def merge(b,d):\n",
    "    mg={**b,**d}\n",
    "    return mg\n",
    "\n",
    "a={}\n",
    "n=int(input(\"No. of elements in 1st dictionary:\"))\n",
    "for i in range(n):\n",
    "    name=input(\"Enter the name:\")\n",
    "    age=int(input(\"Enter the age:\"))\n",
    "    a[name]=age\n",
    "    b=list(a.items())\n",
    "    b.sort()\n",
    "    b=dict(b)\n",
    "print(\"first dictionary is=\",b)\n",
    "\n",
    "c={}\n",
    "n=int(input(\"No. of elements in 2nd dictionary:\"))\n",
    "for i in range(n):\n",
    "    name=input(\"Enter the name:\")\n",
    "    age=int(input(\"Enter the age:\"))\n",
    "    c[name]=age\n",
    "    d=list(c.items())\n",
    "    d.sort()\n",
    "    d=dict(d)\n",
    "print(\"second dictionary is=\",d)\n",
    "e=merge(b,d)\n",
    "e=list(e.items())\n",
    "e.sort()\n",
    "e=dict(e)\n",
    "print(\"Merged dictionary=\",e)"
   ]
  },
  {
   "cell_type": "code",
   "execution_count": null,
   "id": "dc28cd58",
   "metadata": {},
   "outputs": [],
   "source": []
  },
  {
   "cell_type": "markdown",
   "id": "2056a188",
   "metadata": {},
   "source": [
    "# COMMON MEMBER"
   ]
  },
  {
   "cell_type": "code",
   "execution_count": null,
   "id": "81eaf20a",
   "metadata": {},
   "outputs": [
    {
     "name": "stdout",
     "output_type": "stream",
     "text": [
      "Enter number of elements : 4\n",
      "4\n",
      "3\n",
      "2\n",
      "1\n",
      "Enter number of elements : 3\n"
     ]
    }
   ],
   "source": [
    "lst = []\n",
    "n = int(input(\"Enter number of elements : \"))\n",
    "for i in range(0, n):\n",
    "    a = input()\n",
    "    lst.append(a)  \n",
    "\n",
    "\n",
    "lst1 = []\n",
    "n = int(input(\"Enter number of elements : \"))\n",
    "for i in range(0, n):\n",
    "    b = input()\n",
    "    lst.append(b)  \n",
    "\n",
    "\n",
    "result = False\n",
    "for x in a:\n",
    " for y in b:\n",
    "     if x == y:\n",
    "         result = True\n",
    "print(result)\n",
    "if result:\n",
    "    print(\"Lists have at least one common member\")\n",
    "else:\n",
    "    print(\"Lists do not have any common member\")"
   ]
  },
  {
   "cell_type": "code",
   "execution_count": null,
   "id": "a05a4dde",
   "metadata": {},
   "outputs": [],
   "source": []
  }
 ],
 "metadata": {
  "kernelspec": {
   "display_name": "Python 3 (ipykernel)",
   "language": "python",
   "name": "python3"
  },
  "language_info": {
   "codemirror_mode": {
    "name": "ipython",
    "version": 3
   },
   "file_extension": ".py",
   "mimetype": "text/x-python",
   "name": "python",
   "nbconvert_exporter": "python",
   "pygments_lexer": "ipython3",
   "version": "3.11.5"
  }
 },
 "nbformat": 4,
 "nbformat_minor": 5
}
