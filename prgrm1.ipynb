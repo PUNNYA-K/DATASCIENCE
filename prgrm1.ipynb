{
 "cells": [
  {
   "cell_type": "code",
   "execution_count": 2,
   "id": "b223553c",
   "metadata": {},
   "outputs": [
    {
     "name": "stdout",
     "output_type": "stream",
     "text": [
      "Enter the first number:10\n",
      "Enter the second number:5\n",
      "Addition: 15\n",
      "Subtraction: 5\n",
      "Multiplication: 50\n",
      "Division: 2.0\n"
     ]
    }
   ],
   "source": [
    "#ARITHMETIC\n",
    "\n",
    "a=int(input(\"Enter the first number:\"))\n",
    "b=int(input(\"Enter the second number:\"))\n",
    "x=a+b\n",
    "y=a-b\n",
    "z=a*b\n",
    "w=a/b\n",
    "print(\"Addition:\",x)\n",
    "print(\"Subtraction:\",y)\n",
    "print(\"Multiplication:\",z)\n",
    "print(\"Division:\",w)\n"
   ]
  },
  {
   "cell_type": "code",
   "execution_count": null,
   "id": "9770c92d",
   "metadata": {},
   "outputs": [],
   "source": []
  },
  {
   "cell_type": "code",
   "execution_count": null,
   "id": "62670360",
   "metadata": {},
   "outputs": [],
   "source": []
  },
  {
   "cell_type": "code",
   "execution_count": 14,
   "id": "696e137e",
   "metadata": {
    "scrolled": true
   },
   "outputs": [
    {
     "name": "stdout",
     "output_type": "stream",
     "text": [
      "Enter the 1st string:hello\n",
      "Enter the 2nd string:world\n",
      "Length of 1st string: 5\n",
      "Length of 2nd string: 5\n",
      "lowercase: hello\n",
      "uppercase: HELLO\n",
      "concatenation: helloworld\n",
      "replace: hello punnya\n"
     ]
    }
   ],
   "source": [
    "#STRING OPERATIONS\n",
    "\n",
    "a=input(\"Enter the 1st string:\")\n",
    "b=input(\"Enter the 2nd string:\")\n",
    "print(\"Length of 1st string:\",len(a))\n",
    "print(\"Length of 2nd string:\",len(b))\n",
    "print(\"lowercase:\",a.lower())\n",
    "print(\"uppercase:\",a.upper())\n",
    "print(\"concatenation:\",a+b)\n",
    "str=\"hi punnya\"\n",
    "print(\"replace:\",str.replace(\"hi\",\"hello\"))\n"
   ]
  },
  {
   "cell_type": "code",
   "execution_count": null,
   "id": "1f66bf44",
   "metadata": {},
   "outputs": [],
   "source": []
  },
  {
   "cell_type": "code",
   "execution_count": null,
   "id": "d599f143",
   "metadata": {},
   "outputs": [],
   "source": []
  },
  {
   "cell_type": "code",
   "execution_count": 36,
   "id": "882e1220",
   "metadata": {},
   "outputs": [
    {
     "name": "stdout",
     "output_type": "stream",
     "text": [
      "Enter number of elements : 4\n",
      "apple\n",
      "orange\n",
      "mango\n",
      "grape\n",
      "List= ['apple', 'orange', 'mango', 'grape']\n"
     ]
    }
   ],
   "source": [
    "#LIST\n",
    "\n",
    "lst=[]\n",
    "n=int(input(\"Enter number of elements : \"))\n",
    "for i in range(0,n):\n",
    "    x=input()\n",
    "    lst.append(x) \n",
    "print(\"List=\",lst)\n",
    "\n"
   ]
  },
  {
   "cell_type": "code",
   "execution_count": null,
   "id": "fb337fb9",
   "metadata": {},
   "outputs": [],
   "source": []
  },
  {
   "cell_type": "code",
   "execution_count": null,
   "id": "222fbae6",
   "metadata": {},
   "outputs": [],
   "source": []
  },
  {
   "cell_type": "code",
   "execution_count": 34,
   "id": "e734c5c6",
   "metadata": {},
   "outputs": [
    {
     "name": "stdout",
     "output_type": "stream",
     "text": [
      "No. of elements in dictionary:3\n",
      "Enter the name:punnya\n",
      "Enter the age:22\n",
      "Enter the name:archana\n",
      "Enter the age:22\n",
      "Enter the name:diya\n",
      "Enter the age:22\n",
      "The dictionary is= {'archana': 22, 'diya': 22, 'punnya': 22}\n",
      "The dictionary in ascending order= {'archana': 22, 'diya': 22, 'punnya': 22}\n",
      "The dictionary in descending order= {'punnya': 22, 'diya': 22, 'archana': 22}\n"
     ]
    }
   ],
   "source": [
    "#DICTIONARY\n",
    "\n",
    "a={}\n",
    "n=int(input(\"No. of elements in dictionary:\"))\n",
    "for i in range(n):\n",
    "    name=input(\"Enter the name:\")\n",
    "    age=int(input(\"Enter the age:\"))\n",
    "    a[name]=age\n",
    "    b=list(a.items())\n",
    "    b.sort()\n",
    "    b=dict(b)\n",
    "print(\"The dictionary is=\",b)\n",
    "b=dict(b)\n",
    "print(\"The dictionary in ascending order=\",b)\n",
    "r=list(a.items())\n",
    "r.sort(reverse=True)\n",
    "dsc=dict(r)\n",
    "r=dict(r)\n",
    "print(\"The dictionary in descending order=\",r)\n",
    "    \n"
   ]
  },
  {
   "cell_type": "code",
   "execution_count": null,
   "id": "35d9eea9",
   "metadata": {},
   "outputs": [],
   "source": []
  },
  {
   "cell_type": "code",
   "execution_count": null,
   "id": "9690f00f",
   "metadata": {},
   "outputs": [],
   "source": []
  },
  {
   "cell_type": "code",
   "execution_count": null,
   "id": "32a87eda",
   "metadata": {},
   "outputs": [],
   "source": []
  }
 ],
 "metadata": {
  "kernelspec": {
   "display_name": "Python 3 (ipykernel)",
   "language": "python",
   "name": "python3"
  },
  "language_info": {
   "codemirror_mode": {
    "name": "ipython",
    "version": 3
   },
   "file_extension": ".py",
   "mimetype": "text/x-python",
   "name": "python",
   "nbconvert_exporter": "python",
   "pygments_lexer": "ipython3",
   "version": "3.11.5"
  }
 },
 "nbformat": 4,
 "nbformat_minor": 5
}
