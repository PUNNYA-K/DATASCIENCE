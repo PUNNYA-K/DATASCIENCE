{
 "cells": [
  {
   "cell_type": "code",
   "execution_count": 3,
   "id": "3a6a78df",
   "metadata": {},
   "outputs": [
    {
     "name": "stdout",
     "output_type": "stream",
     "text": [
      " Accuracy of kNN with k=3:1.000000\n"
     ]
    }
   ],
   "source": [
    "import numpy as np\n",
    "from sklearn.datasets import load_iris\n",
    "from sklearn.model_selection import train_test_split\n",
    "from sklearn.neighbors import KNeighborsClassifier\n",
    "from sklearn.metrics import accuracy_score\n",
    "#load the iris dataset\n",
    "data=load_iris()\n",
    "X=data.data #feature\n",
    "Y=data.target #Target(labels)\n",
    "#split the dataset into training and testing sets\n",
    "X_train,X_test,Y_train,Y_test=train_test_split(X,Y,test_size=0.2,random_state=42)\n",
    "\n",
    "#initialize the kNN classifier with a specified value of k\n",
    "k=3 #you can change this value as needed\n",
    "knn=KNeighborsClassifier(n_neighbors=k)\n",
    "#fit the model on the training data\n",
    "knn.fit(X_train,Y_train)\n",
    "#make predictions on the test data\n",
    "Y_pred=knn.predict(X_test)\n",
    "#calculate the accuracy of the model\n",
    "accuracy=accuracy_score(Y_test,Y_pred)\n",
    "print(f' Accuracy of kNN with k={k}:{accuracy:2f}')\n"
   ]
  },
  {
   "cell_type": "code",
   "execution_count": null,
   "id": "1ced7ea0",
   "metadata": {},
   "outputs": [],
   "source": []
  }
 ],
 "metadata": {
  "kernelspec": {
   "display_name": "Python 3 (ipykernel)",
   "language": "python",
   "name": "python3"
  },
  "language_info": {
   "codemirror_mode": {
    "name": "ipython",
    "version": 3
   },
   "file_extension": ".py",
   "mimetype": "text/x-python",
   "name": "python",
   "nbconvert_exporter": "python",
   "pygments_lexer": "ipython3",
   "version": "3.11.5"
  }
 },
 "nbformat": 4,
 "nbformat_minor": 5
}
