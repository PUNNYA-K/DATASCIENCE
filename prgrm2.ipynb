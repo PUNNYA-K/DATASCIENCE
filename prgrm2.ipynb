{
 "cells": [
  {
   "cell_type": "code",
   "execution_count": 1,
   "id": "d02c8136",
   "metadata": {},
   "outputs": [
    {
     "name": "stdout",
     "output_type": "stream",
     "text": [
      "Addition:\n",
      "[[ 6  8]\n",
      " [10 12]]\n",
      "\n",
      "Subtraction:\n",
      "[[-4 -4]\n",
      " [-4 -4]]\n",
      "\n",
      "Multiplication(element wise):\n",
      "[[ 5 12]\n",
      " [21 32]]\n",
      "\n",
      "Matrix multiplication:\n",
      "[[19 22]\n",
      " [43 50]]\n",
      "\n",
      "Transpose:\n",
      "[[1 3]\n",
      " [2 4]]\n",
      "[[5 7]\n",
      " [6 8]]\n"
     ]
    }
   ],
   "source": [
    "import numpy as np\n",
    "a=np.array([[1,2],[3,4]])\n",
    "b=np.array([[5,6],[7,8]])\n",
    "c=a+b\n",
    "d=a-b\n",
    "e=a*b\n",
    "f=a@b\n",
    "a_transpose=a.T\n",
    "b_transpose=b.T\n",
    "print(\"Addition:\")\n",
    "print(c)\n",
    "print(\"\\nSubtraction:\")\n",
    "print(d)\n",
    "print(\"\\nMultiplication(element wise):\")\n",
    "print(e)\n",
    "print(\"\\nMatrix multiplication:\")\n",
    "print(f)\n",
    "print(\"\\nTranspose:\")\n",
    "print(a_transpose) \n",
    "print(b_transpose)\n",
    "\n",
    "\n"
   ]
  },
  {
   "cell_type": "code",
   "execution_count": null,
   "id": "554f2b09",
   "metadata": {},
   "outputs": [],
   "source": []
  },
  {
   "cell_type": "code",
   "execution_count": 4,
   "id": "c286ef10",
   "metadata": {},
   "outputs": [
    {
     "name": "stdout",
     "output_type": "stream",
     "text": [
      "Original matrix:\n",
      "[[1 2 3]\n",
      " [4 5 6]\n",
      " [7 8 9]]\n",
      "\n",
      "Reconstructed matrix(with reduced dimensions):\n",
      "[[1. 2. 3.]\n",
      " [4. 5. 6.]\n",
      " [7. 8. 9.]]\n"
     ]
    }
   ],
   "source": [
    "import numpy as np\n",
    "#create a sample matrix\n",
    "x=np.array([[1,2,3],[4,5,6],[7,8,9]])\n",
    "#perform SVD\n",
    "u,s,vt=np.linalg.svd(x)\n",
    "#choose the number of components to keep\n",
    "n_components=2\n",
    "#reconstruct the matrix with reduced dimensions\n",
    "x_reconstructed=np.dot(u[:,:n_components],np.dot(np.diag(s[:n_components]),vt[:n_components,:]))\n",
    "print(\"Original matrix:\")\n",
    "print(x)\n",
    "print(\"\\nReconstructed matrix(with reduced dimensions):\")\n",
    "print(x_reconstructed)\n"
   ]
  },
  {
   "cell_type": "code",
   "execution_count": null,
   "id": "e4ebcc67",
   "metadata": {},
   "outputs": [],
   "source": []
  },
  {
   "cell_type": "code",
   "execution_count": null,
   "id": "d18a3d00",
   "metadata": {},
   "outputs": [],
   "source": []
  }
 ],
 "metadata": {
  "kernelspec": {
   "display_name": "Python 3 (ipykernel)",
   "language": "python",
   "name": "python3"
  },
  "language_info": {
   "codemirror_mode": {
    "name": "ipython",
    "version": 3
   },
   "file_extension": ".py",
   "mimetype": "text/x-python",
   "name": "python",
   "nbconvert_exporter": "python",
   "pygments_lexer": "ipython3",
   "version": "3.11.5"
  }
 },
 "nbformat": 4,
 "nbformat_minor": 5
}
